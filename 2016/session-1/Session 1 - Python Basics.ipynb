{
 "cells": [
  {
   "cell_type": "markdown",
   "metadata": {},
   "source": [
    "# Python variables don't need explicit data type definition, it infers on it own"
   ]
  },
  {
   "cell_type": "code",
   "execution_count": 3,
   "metadata": {
    "collapsed": false
   },
   "outputs": [
    {
     "name": "stdout",
     "output_type": "stream",
     "text": [
      "10\n",
      "sidharth\n",
      "12.5\n"
     ]
    }
   ],
   "source": [
    "i = 10\n",
    "name = \"sidharth\"\n",
    "balance = 12.50\n",
    "\n",
    "print i\n",
    "print name\n",
    "print balance"
   ]
  },
  {
   "cell_type": "markdown",
   "metadata": {},
   "source": [
    "# Basic loops in Python"
   ]
  },
  {
   "cell_type": "code",
   "execution_count": 4,
   "metadata": {
    "collapsed": false
   },
   "outputs": [
    {
     "name": "stdout",
     "output_type": "stream",
     "text": [
      "0\n",
      "1\n",
      "2\n",
      "3\n",
      "4\n",
      "5\n",
      "6\n",
      "7\n",
      "8\n",
      "9\n"
     ]
    }
   ],
   "source": [
    "for i in range(10):\n",
    "    print i"
   ]
  },
  {
   "cell_type": "markdown",
   "metadata": {},
   "source": [
    "# Lets look at creating a simple function"
   ]
  },
  {
   "cell_type": "code",
   "execution_count": 6,
   "metadata": {
    "collapsed": false
   },
   "outputs": [
    {
     "name": "stdout",
     "output_type": "stream",
     "text": [
      "1 * 11 = 11\n",
      "2 * 11 = 22\n",
      "3 * 11 = 33\n",
      "4 * 11 = 44\n",
      "5 * 11 = 55\n",
      "6 * 11 = 66\n",
      "7 * 11 = 77\n",
      "8 * 11 = 88\n",
      "9 * 11 = 99\n",
      "10 * 11 = 110\n",
      "11 * 11 = 121\n",
      "12 * 11 = 132\n"
     ]
    }
   ],
   "source": [
    "def tables(n):\n",
    "    \"\"\"\n",
    "    This method is used to print tables up 12 for a given input n\n",
    "    \"\"\"\n",
    "    for i in range(1, 13):\n",
    "        print \"%d * %d = %d\" % (i, n, i*n)\n",
    "\n",
    "tables(11)"
   ]
  },
  {
   "cell_type": "markdown",
   "metadata": {},
   "source": [
    "# Lets look at how to return a value from a function"
   ]
  },
  {
   "cell_type": "code",
   "execution_count": 8,
   "metadata": {
    "collapsed": false
   },
   "outputs": [
    {
     "name": "stdout",
     "output_type": "stream",
     "text": [
      "121\n",
      "144\n",
      "169\n",
      "196\n",
      "225\n",
      "256\n",
      "289\n",
      "324\n",
      "361\n",
      "400\n"
     ]
    }
   ],
   "source": [
    "def square(n):\n",
    "    return n*n\n",
    "\n",
    "for i in range(11,21):\n",
    "    print square(i)"
   ]
  },
  {
   "cell_type": "markdown",
   "metadata": {},
   "source": [
    "# Basic Datastructures in Python"
   ]
  },
  {
   "cell_type": "code",
   "execution_count": 13,
   "metadata": {
    "collapsed": false
   },
   "outputs": [
    {
     "name": "stdout",
     "output_type": "stream",
     "text": [
      "['Yamini', 'Tejashree', 'Jitendra']\n",
      "['Yamini', 'Tejashree', 'Jitendra', 'Vinaya']\n",
      "Teja Purple\n",
      "Tejashree Blue\n",
      "Oankar Green\n",
      "Sidharth Red\n",
      "Ravi Blue\n",
      "Yamini Pink\n",
      "Shalini Black\n",
      "Alternative method\n",
      "\n",
      "Teja Purple\n",
      "Tejashree Blue\n",
      "Oankar Green\n",
      "Sidharth Red\n",
      "Ravi Blue\n",
      "Yamini Pink\n",
      "Shalini Black\n",
      "Color Frequency\n",
      "\n",
      "Blue 2\n",
      "Pink 1\n",
      "Purple 1\n",
      "Green 1\n",
      "Black 1\n",
      "Red 1\n"
     ]
    }
   ],
   "source": [
    "# Lists are mutables, they begin with square brackets\n",
    "my_new_employess = [\"Yamini\", \"Tejashree\", \"Jitendra\"]\n",
    "print my_new_employess\n",
    "\n",
    "# Tuples are not mutable, you cannot append it\n",
    "my_not_changing_data = (\"1\", \"2\", \"3\")\n",
    "\n",
    "my_new_employess.append(\"Vinaya\")\n",
    "print my_new_employess\n",
    "\n",
    "# Dictionaies store Key-Value pairs\n",
    "fav_colors = {}\n",
    "fav_colors[\"Sidharth\"] = \"Red\"\n",
    "fav_colors[\"Shalini\"] = \"Black\"\n",
    "fav_colors[\"Teja\"] = \"Purple\"\n",
    "fav_colors[\"Ravi\"] = \"Blue\"\n",
    "fav_colors[\"Oankar\"] = \"Green\"\n",
    "fav_colors[\"Yamini\"] = \"Pink\"\n",
    "fav_colors[\"Tejashree\"] = \"Blue\"\n",
    "\n",
    "# This is how you iterate over a dictionary\n",
    "# Method 1\n",
    "for name in fav_colors:\n",
    "    print name, fav_colors[name]\n",
    "    \n",
    "print \"Alternative method\\n\"\n",
    "\n",
    "# Method 2\n",
    "for name, fav_color in fav_colors.items():\n",
    "    print name, fav_colors[name]\n",
    "\n",
    "fav_colors_counts = {}\n",
    "for name, current_color in fav_colors.items():\n",
    "    if current_color not in fav_colors_counts:\n",
    "        fav_colors_counts[current_color] = 0\n",
    "    fav_colors_counts[current_color] += 1\n",
    "\n",
    "print \"Color Frequency\\n\"\n",
    "for color, counts in fav_colors_counts.items():\n",
    "    print color, counts"
   ]
  },
  {
   "cell_type": "markdown",
   "metadata": {},
   "source": [
    "# Nested List"
   ]
  },
  {
   "cell_type": "code",
   "execution_count": 15,
   "metadata": {
    "collapsed": false
   },
   "outputs": [
    {
     "name": "stdout",
     "output_type": "stream",
     "text": [
      "[('Sidharth Shah', '9321009381'), ('Ravi Pal', '9594835459')]\n"
     ]
    }
   ],
   "source": [
    "mobiles_nos = []\n",
    "\n",
    "mobiles_nos.append((\"Sidharth Shah\", \"9321009381\"))\n",
    "mobiles_nos.append((\"Ravi Pal\", \"9594835459\"))\n",
    "\n",
    "print mobiles_nos"
   ]
  },
  {
   "cell_type": "markdown",
   "metadata": {},
   "source": [
    "# Similarly Nested Dictionaries"
   ]
  },
  {
   "cell_type": "code",
   "execution_count": 18,
   "metadata": {
    "collapsed": false
   },
   "outputs": [
    {
     "name": "stdout",
     "output_type": "stream",
     "text": [
      "{'sidharth': {'age': 30, 'address': 'vile parle'}}\n"
     ]
    }
   ],
   "source": [
    "people = {}\n",
    "sidharth = {\"age\": 30, \"address\": \"vile parle\"}\n",
    "people[\"sidharth\"] = sidharth\n",
    "print people"
   ]
  },
  {
   "cell_type": "markdown",
   "metadata": {},
   "source": [
    "# Modules can be imported as follows along with looking up for documentation"
   ]
  },
  {
   "cell_type": "code",
   "execution_count": 19,
   "metadata": {
    "collapsed": false
   },
   "outputs": [
    {
     "name": "stdout",
     "output_type": "stream",
     "text": [
      "Help on built-in function listdir in module posix:\n",
      "\n",
      "listdir(...)\n",
      "    listdir(path) -> list_of_strings\n",
      "    \n",
      "    Return a list containing the names of the entries in the directory.\n",
      "    \n",
      "        path: path of directory to list\n",
      "    \n",
      "    The list is in arbitrary order.  It does not include the special\n",
      "    entries '.' and '..' even if they are present in the directory.\n",
      "\n"
     ]
    }
   ],
   "source": [
    "import os\n",
    "help(os.listdir)"
   ]
  },
  {
   "cell_type": "markdown",
   "metadata": {},
   "source": [
    "# To check listing of methods/functions following is how you can do it"
   ]
  },
  {
   "cell_type": "code",
   "execution_count": 21,
   "metadata": {
    "collapsed": false
   },
   "outputs": [
    {
     "data": {
      "text/plain": [
       "['__all__',\n",
       " '__builtins__',\n",
       " '__doc__',\n",
       " '__file__',\n",
       " '__name__',\n",
       " '__package__',\n",
       " '_joinrealpath',\n",
       " '_unicode',\n",
       " '_uvarprog',\n",
       " '_varprog',\n",
       " 'abspath',\n",
       " 'altsep',\n",
       " 'basename',\n",
       " 'commonprefix',\n",
       " 'curdir',\n",
       " 'defpath',\n",
       " 'devnull',\n",
       " 'dirname',\n",
       " 'exists',\n",
       " 'expanduser',\n",
       " 'expandvars',\n",
       " 'extsep',\n",
       " 'genericpath',\n",
       " 'getatime',\n",
       " 'getctime',\n",
       " 'getmtime',\n",
       " 'getsize',\n",
       " 'isabs',\n",
       " 'isdir',\n",
       " 'isfile',\n",
       " 'islink',\n",
       " 'ismount',\n",
       " 'join',\n",
       " 'lexists',\n",
       " 'normcase',\n",
       " 'normpath',\n",
       " 'os',\n",
       " 'pardir',\n",
       " 'pathsep',\n",
       " 'realpath',\n",
       " 'relpath',\n",
       " 'samefile',\n",
       " 'sameopenfile',\n",
       " 'samestat',\n",
       " 'sep',\n",
       " 'split',\n",
       " 'splitdrive',\n",
       " 'splitext',\n",
       " 'stat',\n",
       " 'supports_unicode_filenames',\n",
       " 'sys',\n",
       " 'walk',\n",
       " 'warnings']"
      ]
     },
     "execution_count": 21,
     "metadata": {},
     "output_type": "execute_result"
    }
   ],
   "source": [
    "dir(os.path)"
   ]
  },
  {
   "cell_type": "markdown",
   "metadata": {},
   "source": [
    "# Some other constructs for looping"
   ]
  },
  {
   "cell_type": "code",
   "execution_count": 22,
   "metadata": {
    "collapsed": false
   },
   "outputs": [
    {
     "name": "stdout",
     "output_type": "stream",
     "text": [
      "10\n",
      "9\n",
      "8\n",
      "7\n",
      "6\n",
      "5\n",
      "4\n",
      "3\n",
      "2\n",
      "1\n"
     ]
    }
   ],
   "source": [
    "n = 10\n",
    "while n > 0:\n",
    "    print n\n",
    "    n = n - 1"
   ]
  },
  {
   "cell_type": "markdown",
   "metadata": {},
   "source": [
    "# There is no switch-case, but you can hack it using if, elif, else block like following"
   ]
  },
  {
   "cell_type": "code",
   "execution_count": 23,
   "metadata": {
    "collapsed": false
   },
   "outputs": [
    {
     "name": "stdout",
     "output_type": "stream",
     "text": [
      "Ravi, Ravi, Ravi\n"
     ]
    }
   ],
   "source": [
    "def foo(n):\n",
    "    if n == 0:\n",
    "        print \"Booya!\"\n",
    "    elif n == 1:\n",
    "        print \"Cucumber\"\n",
    "    else:\n",
    "        print \"Ravi, Ravi, Ravi\"\n",
    "\n",
    "foo(3)"
   ]
  },
  {
   "cell_type": "markdown",
   "metadata": {},
   "source": [
    "# Following is a basic Class introduction"
   ]
  },
  {
   "cell_type": "code",
   "execution_count": 26,
   "metadata": {
    "collapsed": false
   },
   "outputs": [
    {
     "ename": "IndentationError",
     "evalue": "expected an indented block (<ipython-input-26-b2509434e3fd>, line 2)",
     "output_type": "error",
     "traceback": [
      "\u001b[0;36m  File \u001b[0;32m\"<ipython-input-26-b2509434e3fd>\"\u001b[0;36m, line \u001b[0;32m2\u001b[0m\n\u001b[0;31m    name = \"\"\u001b[0m\n\u001b[0m       ^\u001b[0m\n\u001b[0;31mIndentationError\u001b[0m\u001b[0;31m:\u001b[0m expected an indented block\n"
     ]
    }
   ],
   "source": [
    "class Employee(object):\n",
    "    name = \"\"\n",
    "    phone = \"\"\n",
    "    \n",
    "    def get_name(self):\n",
    "        return self.name\n",
    "\n",
    "    def set_name(self, name):\n",
    "        self.name = name\n",
    "\n",
    "ravi = Employee()\n",
    "ravi.set_name(\"Ravi Pal\")\n",
    "print ravi.get_name()"
   ]
  },
  {
   "cell_type": "code",
   "execution_count": null,
   "metadata": {
    "collapsed": true
   },
   "outputs": [],
   "source": []
  }
 ],
 "metadata": {
  "kernelspec": {
   "display_name": "Python 2",
   "language": "python",
   "name": "python2"
  },
  "language_info": {
   "codemirror_mode": {
    "name": "ipython",
    "version": 2
   },
   "file_extension": ".py",
   "mimetype": "text/x-python",
   "name": "python",
   "nbconvert_exporter": "python",
   "pygments_lexer": "ipython2",
   "version": "2.7.11"
  }
 },
 "nbformat": 4,
 "nbformat_minor": 0
}
